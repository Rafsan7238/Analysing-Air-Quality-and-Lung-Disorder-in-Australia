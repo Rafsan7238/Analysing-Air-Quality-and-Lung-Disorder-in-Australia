{
 "cells": [
  {
   "cell_type": "markdown",
   "source": [
    "## FOR COMP90024 ASSIGNMENT 2\n",
    "### BY TEAM 45:\n",
    "    - William Chen 1400081\n",
    "    - Petr Andreev 1375858\n",
    "    - Rafsan Al Mamun 1407776\n",
    "    - Ojaswi Dheer 1447227"
   ],
   "metadata": {
    "collapsed": false,
    "pycharm": {
     "name": "#%% md\n"
    }
   }
  },
  {
   "cell_type": "markdown",
   "source": [
    "# Lung Disease Analysis in Victoria\n",
    "---------------------------------\n",
    "This notebook explores lung disease data collected from SUDO across all of Australia. The dataset includes mortality rates, income levels, employment status, gender etc for asthma and COPD. The objective of this analysis is to gain insights into the relationship of demographics with lung diseases."
   ],
   "metadata": {
    "collapsed": false,
    "pycharm": {
     "name": "#%% md\n"
    }
   }
  },
  {
   "cell_type": "markdown",
   "source": [
    "## Import Necessary Libraries:\n",
    "----------------------------"
   ],
   "metadata": {
    "collapsed": false,
    "pycharm": {
     "name": "#%% md\n"
    }
   }
  },
  {
   "cell_type": "code",
   "execution_count": 1,
   "metadata": {
    "collapsed": true,
    "pycharm": {
     "name": "#%%\n"
    }
   },
   "outputs": [],
   "source": [
    "import pandas as pd\n",
    "import matplotlib.pyplot as plt\n",
    "import seaborn as sns\n",
    "import math"
   ]
  },
  {
   "cell_type": "markdown",
   "source": [
    "## Load the Dataset:\n",
    "--------------------\n",
    "\n",
    "There are several datasets for this analysis that contains statistics for lung diseases across various factors.\n",
    "\n",
    "Before proceeding with the analysis, we will load all the datasets."
   ],
   "metadata": {
    "collapsed": false,
    "pycharm": {
     "name": "#%% md\n"
    }
   }
  },
  {
   "cell_type": "code",
   "execution_count": 2,
   "outputs": [],
   "source": [
    "# Set display options for pandas DataFrame\n",
    "pd.set_option('display.max_columns', None)  # Display all columns\n",
    "pd.set_option('display.width', 1000)        # Set display width"
   ],
   "metadata": {
    "collapsed": false,
    "pycharm": {
     "name": "#%%\n"
    }
   }
  },
  {
   "cell_type": "code",
   "execution_count": 21,
   "outputs": [],
   "source": [
    "# Load the datasets\n",
    "male_lung_cancer_data = pd.read_csv('../data/Lung Disease Dataset/aihw_cimar_mortality_males_gccsa_2009.csv')\n",
    "female_lung_cancer_data = pd.read_csv('../data/Lung Disease Dataset/aihw_cimar_mortality_females_gccsa_2009.csv')\n",
    "all_lung_cancer_data = pd.read_csv('../data/Lung Disease Dataset/aihw_cimar_mortality_persons_gccsa_2009.csv')\n",
    "census_by_cob_data = pd.read_csv('../data/Lung Disease Dataset/abs_2021census_g21a_aust_gccsa.csv')\n",
    "census_by_inc_emp_data = pd.read_csv('../data/Lung Disease Dataset/abs_2021census_g21b_aust_gccsa.csv')"
   ],
   "metadata": {
    "collapsed": false,
    "pycharm": {
     "name": "#%%\n"
    }
   }
  },
  {
   "cell_type": "markdown",
   "source": [
    "## Summary Statistics:\n",
    "-----------------\n",
    "By examining the summary statistics from various angles and considering their implications in the broader context of lung diseases across the country, we can uncover valuable insights and inform evidence-based decision-making.\n",
    "\n",
    "Here we will visualise the descriptive statistics for asthma and COPD prevalence and the mortality associated with them."
   ],
   "metadata": {
    "collapsed": false,
    "pycharm": {
     "name": "#%% md\n"
    }
   }
  },
  {
   "cell_type": "code",
   "execution_count": 22,
   "outputs": [
    {
     "data": {
      "text/plain": "  gccsa_code         gccsa_name  Lung cancer total mortality  Lung cancer population  Lung cancer rate per 100k  All cancer total mortality  All cancer population  Total asthma  Employed asthma  Australian asthma  Total COPD  Australian COPD  Foreigner asthma  Foreigner COPD\n0      1GSYD     Greater Sydney                         7272                23089361                      31.50                       39171               23089361        353656           176461             263188       63101            40132             88368           21806\n1      1RNSW        Rest of NSW                         6513                13043735                      49.93                       33277               13043735        271403           122833             246105       72543            60438             21667            9994\n2      2GMEL  Greater Melbourne                         6377                20904141                      30.51                       35887               20904141        386347           208830             292521       58925            37523             91496           20287\n3      2RVIC        Rest of Vic                         3138                 6834239                      45.92                       17475                6834239        156014            73533             140299       38195            31287             13405            5734\n4      3GBRI   Greater Brisbane                         3406                10753623                      31.67                       18039               10753623        224233           116657             182163       46859            35004             40601           11007",
      "text/html": "<div>\n<style scoped>\n    .dataframe tbody tr th:only-of-type {\n        vertical-align: middle;\n    }\n\n    .dataframe tbody tr th {\n        vertical-align: top;\n    }\n\n    .dataframe thead th {\n        text-align: right;\n    }\n</style>\n<table border=\"1\" class=\"dataframe\">\n  <thead>\n    <tr style=\"text-align: right;\">\n      <th></th>\n      <th>gccsa_code</th>\n      <th>gccsa_name</th>\n      <th>Lung cancer total mortality</th>\n      <th>Lung cancer population</th>\n      <th>Lung cancer rate per 100k</th>\n      <th>All cancer total mortality</th>\n      <th>All cancer population</th>\n      <th>Total asthma</th>\n      <th>Employed asthma</th>\n      <th>Australian asthma</th>\n      <th>Total COPD</th>\n      <th>Australian COPD</th>\n      <th>Foreigner asthma</th>\n      <th>Foreigner COPD</th>\n    </tr>\n  </thead>\n  <tbody>\n    <tr>\n      <th>0</th>\n      <td>1GSYD</td>\n      <td>Greater Sydney</td>\n      <td>7272</td>\n      <td>23089361</td>\n      <td>31.50</td>\n      <td>39171</td>\n      <td>23089361</td>\n      <td>353656</td>\n      <td>176461</td>\n      <td>263188</td>\n      <td>63101</td>\n      <td>40132</td>\n      <td>88368</td>\n      <td>21806</td>\n    </tr>\n    <tr>\n      <th>1</th>\n      <td>1RNSW</td>\n      <td>Rest of NSW</td>\n      <td>6513</td>\n      <td>13043735</td>\n      <td>49.93</td>\n      <td>33277</td>\n      <td>13043735</td>\n      <td>271403</td>\n      <td>122833</td>\n      <td>246105</td>\n      <td>72543</td>\n      <td>60438</td>\n      <td>21667</td>\n      <td>9994</td>\n    </tr>\n    <tr>\n      <th>2</th>\n      <td>2GMEL</td>\n      <td>Greater Melbourne</td>\n      <td>6377</td>\n      <td>20904141</td>\n      <td>30.51</td>\n      <td>35887</td>\n      <td>20904141</td>\n      <td>386347</td>\n      <td>208830</td>\n      <td>292521</td>\n      <td>58925</td>\n      <td>37523</td>\n      <td>91496</td>\n      <td>20287</td>\n    </tr>\n    <tr>\n      <th>3</th>\n      <td>2RVIC</td>\n      <td>Rest of Vic</td>\n      <td>3138</td>\n      <td>6834239</td>\n      <td>45.92</td>\n      <td>17475</td>\n      <td>6834239</td>\n      <td>156014</td>\n      <td>73533</td>\n      <td>140299</td>\n      <td>38195</td>\n      <td>31287</td>\n      <td>13405</td>\n      <td>5734</td>\n    </tr>\n    <tr>\n      <th>4</th>\n      <td>3GBRI</td>\n      <td>Greater Brisbane</td>\n      <td>3406</td>\n      <td>10753623</td>\n      <td>31.67</td>\n      <td>18039</td>\n      <td>10753623</td>\n      <td>224233</td>\n      <td>116657</td>\n      <td>182163</td>\n      <td>46859</td>\n      <td>35004</td>\n      <td>40601</td>\n      <td>11007</td>\n    </tr>\n  </tbody>\n</table>\n</div>"
     },
     "execution_count": 22,
     "metadata": {},
     "output_type": "execute_result"
    }
   ],
   "source": [
    "# Merge mortality and census datasets based on location\n",
    "merged_data_1 = all_lung_cancer_data.merge(census_by_cob_data, how='inner', on=['gccsa_code', 'gccsa_name'])\n",
    "merged_data_1.head()"
   ],
   "metadata": {
    "collapsed": false,
    "pycharm": {
     "name": "#%%\n"
    }
   }
  },
  {
   "cell_type": "code",
   "execution_count": 23,
   "outputs": [
    {
     "data": {
      "text/plain": "        Total asthma    Total COPD  Lung cancer total mortality\ncount      15.000000     15.000000                    15.000000\nmean   137608.066667  29331.933333                  2690.866667\nstd    127839.516274  25478.827755                  2505.530536\nmin      4429.000000    942.000000                   137.000000\n25%     34008.500000   7573.500000                   585.000000\n50%    121331.000000  25546.000000                  2506.000000\n75%    218554.000000  52892.000000                  4017.000000\nmax    386347.000000  72543.000000                  7272.000000",
      "text/html": "<div>\n<style scoped>\n    .dataframe tbody tr th:only-of-type {\n        vertical-align: middle;\n    }\n\n    .dataframe tbody tr th {\n        vertical-align: top;\n    }\n\n    .dataframe thead th {\n        text-align: right;\n    }\n</style>\n<table border=\"1\" class=\"dataframe\">\n  <thead>\n    <tr style=\"text-align: right;\">\n      <th></th>\n      <th>Total asthma</th>\n      <th>Total COPD</th>\n      <th>Lung cancer total mortality</th>\n    </tr>\n  </thead>\n  <tbody>\n    <tr>\n      <th>count</th>\n      <td>15.000000</td>\n      <td>15.000000</td>\n      <td>15.000000</td>\n    </tr>\n    <tr>\n      <th>mean</th>\n      <td>137608.066667</td>\n      <td>29331.933333</td>\n      <td>2690.866667</td>\n    </tr>\n    <tr>\n      <th>std</th>\n      <td>127839.516274</td>\n      <td>25478.827755</td>\n      <td>2505.530536</td>\n    </tr>\n    <tr>\n      <th>min</th>\n      <td>4429.000000</td>\n      <td>942.000000</td>\n      <td>137.000000</td>\n    </tr>\n    <tr>\n      <th>25%</th>\n      <td>34008.500000</td>\n      <td>7573.500000</td>\n      <td>585.000000</td>\n    </tr>\n    <tr>\n      <th>50%</th>\n      <td>121331.000000</td>\n      <td>25546.000000</td>\n      <td>2506.000000</td>\n    </tr>\n    <tr>\n      <th>75%</th>\n      <td>218554.000000</td>\n      <td>52892.000000</td>\n      <td>4017.000000</td>\n    </tr>\n    <tr>\n      <th>max</th>\n      <td>386347.000000</td>\n      <td>72543.000000</td>\n      <td>7272.000000</td>\n    </tr>\n  </tbody>\n</table>\n</div>"
     },
     "execution_count": 23,
     "metadata": {},
     "output_type": "execute_result"
    }
   ],
   "source": [
    "# Display summary stats of chosen columns\n",
    "merged_data_1[['Total asthma', 'Total COPD', 'Lung cancer total mortality']].describe()"
   ],
   "metadata": {
    "collapsed": false,
    "pycharm": {
     "name": "#%%\n"
    }
   }
  },
  {
   "cell_type": "markdown",
   "source": [
    "### Insights from Summary Statistics:\n",
    "1. High Variability in Asthma Prevalence:\n",
    "The diagnosed cases of asthma exhibit significant variability across different locations in Australia. The standard deviation of approximately 127,840 individuals highlights substantial differences in asthma prevalence between regions.\n",
    "\n",
    "2. Asthma Burden and Disease Impact:\n",
    "The mean number of diagnosed asthma cases (137,608 individuals) suggests a considerable burden of asthma within the population. This underscores the importance of public health interventions and access to effective asthma management strategies.\n",
    "\n",
    "3. Comparison with COPD Prevalence:\n",
    "While COPD has a lower mean prevalence (29,332 individuals) compared to asthma, it still represents a significant health concern with notable variation between locations (std ≈ 25,479 individuals). COPD poses challenges in healthcare delivery and emphasizes the need for targeted prevention and treatment approaches.\n",
    "\n",
    "4. Geographical Variations:\n",
    "The wide range of diagnosed cases for both asthma (4,429 to 386,347 individuals) and COPD (942 to 72,543 individuals) reflects geographical disparities in disease prevalence. Understanding regional differences can inform targeted healthcare policies and resource allocation.\n",
    "\n",
    "5. Public Health Implications:\n",
    "The distribution analysis, including quartile breakdowns, provides insights into the distribution of disease burden within each category. This information is crucial for prioritizing resources and interventions to address asthma and COPD at local and national levels."
   ],
   "metadata": {
    "collapsed": false,
    "pycharm": {
     "name": "#%% md\n"
    }
   }
  },
  {
   "cell_type": "code",
   "execution_count": null,
   "outputs": [],
   "source": [],
   "metadata": {
    "collapsed": false,
    "pycharm": {
     "name": "#%%\n"
    }
   }
  }
 ],
 "metadata": {
  "kernelspec": {
   "display_name": "Python 3",
   "language": "python",
   "name": "python3"
  },
  "language_info": {
   "codemirror_mode": {
    "name": "ipython",
    "version": 2
   },
   "file_extension": ".py",
   "mimetype": "text/x-python",
   "name": "python",
   "nbconvert_exporter": "python",
   "pygments_lexer": "ipython2",
   "version": "2.7.6"
  }
 },
 "nbformat": 4,
 "nbformat_minor": 0
}