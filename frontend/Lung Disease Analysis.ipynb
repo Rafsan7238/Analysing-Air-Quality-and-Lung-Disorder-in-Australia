{
 "cells": [
  {
   "cell_type": "markdown",
   "source": [
    "## FOR COMP90024 ASSIGNMENT 2\n",
    "### BY TEAM 45:\n",
    "    - William Chen 1400081\n",
    "    - Petr Andreev 1375858\n",
    "    - Rafsan Al Mamun 1407776\n",
    "    - Ojaswi Dheer 1447227"
   ],
   "metadata": {
    "collapsed": false,
    "pycharm": {
     "name": "#%% md\n"
    }
   }
  },
  {
   "cell_type": "markdown",
   "source": [
    "# Lung Disease Analysis in Victoria\n",
    "---------------------------------\n",
    "This notebook explores lung disease data collected from SUDO across all of Australia. The dataset includes mortality rates, income levels, employment status, gender etc for asthma and COPD. The objective of this analysis is to gain insights into the relationship of demographics with lung diseases."
   ],
   "metadata": {
    "collapsed": false,
    "pycharm": {
     "name": "#%% md\n"
    }
   }
  },
  {
   "cell_type": "markdown",
   "source": [
    "## Import Necessary Libraries:\n",
    "----------------------------"
   ],
   "metadata": {
    "collapsed": false,
    "pycharm": {
     "name": "#%% md\n"
    }
   }
  },
  {
   "cell_type": "code",
   "execution_count": 1,
   "metadata": {
    "collapsed": true,
    "pycharm": {
     "name": "#%%\n"
    }
   },
   "outputs": [],
   "source": [
    "import pandas as pd\n",
    "import matplotlib.pyplot as plt\n",
    "import seaborn as sns\n",
    "import math"
   ]
  },
  {
   "cell_type": "markdown",
   "source": [
    "## Load the Dataset:\n",
    "--------------------\n",
    "\n",
    "There are several datasets for this analysis that contains statistics for lung diseases across various factors.\n",
    "\n",
    "Before proceeding with the analysis, we will load all the datasets."
   ],
   "metadata": {
    "collapsed": false,
    "pycharm": {
     "name": "#%% md\n"
    }
   }
  },
  {
   "cell_type": "code",
   "execution_count": 2,
   "outputs": [],
   "source": [
    "# Set display options for pandas DataFrame\n",
    "pd.set_option('display.max_columns', None)  # Display all columns\n",
    "pd.set_option('display.width', 1000)        # Set display width"
   ],
   "metadata": {
    "collapsed": false,
    "pycharm": {
     "name": "#%%\n"
    }
   }
  },
  {
   "cell_type": "code",
   "execution_count": 4,
   "outputs": [],
   "source": [
    "# Load the datasets\n",
    "male_lung_cancer_data = pd.read_csv('../data/Lung Disease Dataset/aihw_cimar_mortality_males_gccsa_2009.csv')\n",
    "female_lung_cancer_data = pd.read_csv('../data/Lung Disease Dataset/aihw_cimar_mortality_females_gccsa_2009.csv')\n",
    "all_lung_cancer_data = pd.read_csv('../data/Lung Disease Dataset/aihw_cimar_mortality_persons_gccsa_2009.csv')\n",
    "census_by_cob_data = pd.read_csv('../data/Lung Disease Dataset/abs_2021census_g21a_aust_gccsa.csv')\n",
    "census_by_inc_emp_data = pd.read_csv('../data/Lung Disease Dataset/abs_2021census_g21b_aust_gccsa.csv')"
   ],
   "metadata": {
    "collapsed": false,
    "pycharm": {
     "name": "#%%\n"
    }
   }
  }
 ],
 "metadata": {
  "kernelspec": {
   "display_name": "Python 3",
   "language": "python",
   "name": "python3"
  },
  "language_info": {
   "codemirror_mode": {
    "name": "ipython",
    "version": 2
   },
   "file_extension": ".py",
   "mimetype": "text/x-python",
   "name": "python",
   "nbconvert_exporter": "python",
   "pygments_lexer": "ipython2",
   "version": "2.7.6"
  }
 },
 "nbformat": 4,
 "nbformat_minor": 0
}