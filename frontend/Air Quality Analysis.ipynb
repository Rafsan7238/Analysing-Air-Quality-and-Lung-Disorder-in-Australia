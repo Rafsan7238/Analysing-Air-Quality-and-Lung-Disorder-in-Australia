{
 "cells": [
  {
   "cell_type": "markdown",
   "source": [
    "# Air Quality Analysis in Victoria\n",
    "---------------------------------\n",
    "This notebook explores air quality data collected from various monitoring stations in Victoria. The dataset includes hourly average measurements of air quality parameters. The objective of this analysis is to gain insights into the temporal trends, spatial variations, and potential impacts of air pollution on public health in Victoria."
   ],
   "metadata": {
    "collapsed": false,
    "pycharm": {
     "name": "#%% md\n"
    }
   }
  },
  {
   "cell_type": "markdown",
   "source": [
    "## Import Necessary Libraries:\n",
    "----------------------------"
   ],
   "metadata": {
    "collapsed": false,
    "pycharm": {
     "name": "#%% md\n"
    }
   }
  },
  {
   "cell_type": "code",
   "execution_count": 1,
   "metadata": {
    "collapsed": true,
    "pycharm": {
     "name": "#%%\n"
    }
   },
   "outputs": [],
   "source": [
    "import pandas as pd\n",
    "import matplotlib.pyplot as plt\n",
    "import seaborn as sns\n",
    "from statsmodels.tsa.seasonal import seasonal_decompose"
   ]
  },
  {
   "cell_type": "markdown",
   "source": [
    "## Load the Dataset:\n",
    "--------------------\n",
    "\n",
    "### Dataset Description\n",
    "\n",
    "The dataset used in this analysis contains hourly average measurements of air quality parameters from various monitoring stations in Victoria. The dataset is sourced from EPA and includes the following columns:\n",
    "\n",
    "- date: Date of observation\n",
    "- time: Time of observation\n",
    "- location_name: Name of the monitoring station\n",
    "- latitude: Latitude coordinates of the monitoring station\n",
    "- longitude: Longitude coordinates of the monitoring station\n",
    "- value: Value of the observed air quality parameter\n",
    "- parameter_name: Name of the observed air quality parameter\n",
    "\n",
    "The objective of this analysis is to explore the relationship between air quality parameters and potential impacts on public health, particularly focusing on parameters such as CO (Carbon Monoxide), PM10 (Particulate Matter with diameter less than 10 micrometers), PM2.5 (Particulate Matter with diameter less than 2.5 micrometers), O3 (Ozone), and SO2 (Sulfur Dioxide). These parameters are known to have significant implications for air quality and human health.\n",
    "\n",
    "Before proceeding with the analysis, we will load the dataset.\n"
   ],
   "metadata": {
    "collapsed": false,
    "pycharm": {
     "name": "#%% md\n"
    }
   }
  },
  {
   "cell_type": "code",
   "execution_count": 6,
   "outputs": [],
   "source": [
    "# Set display options for pandas DataFrame\n",
    "pd.set_option('display.max_columns', None)  # Display all columns\n",
    "pd.set_option('display.width', 1000)        # Set display width"
   ],
   "metadata": {
    "collapsed": false,
    "pycharm": {
     "name": "#%%\n"
    }
   }
  },
  {
   "cell_type": "code",
   "execution_count": 12,
   "outputs": [],
   "source": [
    "# Load the dataset\n",
    "data = pd.read_excel('../data/2022_All_sites_air_quality_hourly_avg.xlsx', sheet_name='AllData', usecols='A:G')\n",
    "\n",
    "# Filter the DataFrame to select only specific parameter names\n",
    "selected_parameters = ['CO', 'PM10', 'PM2.5', 'O3', 'SO2']\n",
    "filtered_data = data[data['parameter_name'].isin(selected_parameters)]"
   ],
   "metadata": {
    "collapsed": false,
    "pycharm": {
     "name": "#%%\n"
    }
   }
  },
  {
   "cell_type": "markdown",
   "source": [
    "## Data Preprocessing:\n",
    "-------------------\n",
    "\n",
    "Before delving into detailed analysis, it's crucial to preprocess the dataset to ensure its quality and suitability for further exploration:\n",
    "\n",
    "1. Data Conversion: Convert the 'date' column to datetime format to facilitate temporal analysis.\n",
    "2. Filtering: Apply filters to select specific air quality parameters of interest for focused analysis.\n",
    "\n",
    "By performing these preprocessing steps, we can streamline the data and focus our analysis on the relevant air quality parameters, setting the foundation for insightful exploration.\n"
   ],
   "metadata": {
    "collapsed": false,
    "pycharm": {
     "name": "#%% md\n"
    }
   }
  },
  {
   "cell_type": "code",
   "execution_count": 18,
   "outputs": [
    {
     "name": "stderr",
     "output_type": "stream",
     "text": [
      "/var/folders/7p/m7gs_hkn58qbs70h8pztg9480000gn/T/ipykernel_12001/1248701647.py:5: SettingWithCopyWarning: \n",
      "A value is trying to be set on a copy of a slice from a DataFrame.\n",
      "Try using .loc[row_indexer,col_indexer] = value instead\n",
      "\n",
      "See the caveats in the documentation: https://pandas.pydata.org/pandas-docs/stable/user_guide/indexing.html#returning-a-view-versus-a-copy\n",
      "  filtered_data['date'] = pd.to_datetime(filtered_data['date'])\n",
      "/var/folders/7p/m7gs_hkn58qbs70h8pztg9480000gn/T/ipykernel_12001/1248701647.py:8: SettingWithCopyWarning: \n",
      "A value is trying to be set on a copy of a slice from a DataFrame.\n",
      "Try using .loc[row_indexer,col_indexer] = value instead\n",
      "\n",
      "See the caveats in the documentation: https://pandas.pydata.org/pandas-docs/stable/user_guide/indexing.html#returning-a-view-versus-a-copy\n",
      "  filtered_data['date'] = filtered_data['date'].dt.date\n"
     ]
    }
   ],
   "source": [
    "# Reset the index\n",
    "filtered_data.reset_index(drop=True, inplace=True)\n",
    "\n",
    "# Convert 'date' column to datetime data type\n",
    "filtered_data['date'] = pd.to_datetime(filtered_data['date'])\n",
    "\n",
    "# Extract only the date portion from the datetime column\n",
    "filtered_data['date'] = filtered_data['date'].dt.date"
   ],
   "metadata": {
    "collapsed": false,
    "pycharm": {
     "name": "#%%\n"
    }
   }
  },
  {
   "cell_type": "code",
   "execution_count": 19,
   "outputs": [
    {
     "name": "stdout",
     "output_type": "stream",
     "text": [
      "         date      time location_name   latitude   longitude   value parameter_name\n",
      "0  2021-12-31  23:00:00  Morwell East -38.229393  146.424454   0.356             CO\n",
      "1  2021-12-31  23:00:00   Mooroolbark -37.774967  145.328500  49.150           PM10\n",
      "2  2021-12-31  23:00:00     Traralgon -38.194282  146.531464  27.504           PM10\n",
      "3  2021-12-31  23:00:00     Footscray -37.803709  144.869342  33.061           PM10\n",
      "4  2021-12-31  23:00:00  Morwell East -38.229393  146.424454   3.327          PM2.5\n"
     ]
    }
   ],
   "source": [
    "# Display the first few rows of the filtered DataFrame\n",
    "print(filtered_data.head())"
   ],
   "metadata": {
    "collapsed": false,
    "pycharm": {
     "name": "#%%\n"
    }
   }
  },
  {
   "cell_type": "markdown",
   "source": [
    "## Data Examination:\n",
    "-----------------\n",
    "\n",
    "Before conducting detailed analysis, it's essential to perform initial checks and preparations on the dataset:\n",
    "\n",
    "1. Summary Statistics: Compute summary statistics to understand the distribution and central tendencies of the data.\n",
    "2. Missing Values: Check for any missing values in the dataset and handle them appropriately.\n",
    "\n",
    "Let's proceed with examining the data to ensure its quality and suitability for analysis.\n"
   ],
   "metadata": {
    "collapsed": false,
    "pycharm": {
     "name": "#%% md\n"
    }
   }
  },
  {
   "cell_type": "code",
   "execution_count": 23,
   "outputs": [
    {
     "name": "stdout",
     "output_type": "stream",
     "text": [
      "Summary Statistics by Parameter:\n",
      "                  count       mean        std     min    25%     50%      75%      max\n",
      "parameter_name                                                                        \n",
      "CO              43966.0   0.167876   0.128603  -0.589  0.095   0.144   0.2060    1.912\n",
      "O3              66467.0  16.296012   9.242939  -0.971  9.937  16.684  22.4985   66.943\n",
      "PM10            56597.0  16.437867  11.658281 -19.612  9.208  13.903  20.7580  416.870\n",
      "PM2.5           81045.0   5.775832   5.362307 -42.107  2.466   4.900   8.0410   96.918\n",
      "SO2             49353.0   0.434215   1.719208  -5.458 -0.070   0.280   0.6780  115.233\n"
     ]
    }
   ],
   "source": [
    "# Compute summary statistics for each parameter in 'parameter_name'\n",
    "parameter_summary_stats = filtered_data.groupby(['parameter_name'])['value'].describe()\n",
    "\n",
    "# Display summary statistics for each parameter\n",
    "print(\"Summary Statistics by Parameter:\")\n",
    "print(parameter_summary_stats)\n"
   ],
   "metadata": {
    "collapsed": false,
    "pycharm": {
     "name": "#%%\n"
    }
   }
  },
  {
   "cell_type": "markdown",
   "source": [
    "### Insights from Summary Statistics:\n",
    "\n",
    "1. Presence of Negative Values:\n",
    "   The summary statistics reveal the presence of negative values for certain air quality parameters (e.g., CO, O3, PM10, PM2.5, SO2), indicating potential measurement errors or anomalies that require further investigation and data cleaning to ensure data quality.\n",
    "\n",
    "2. Wide Range of Values:\n",
    "   The wide range of values observed for each parameter suggests significant variability in air quality across different observations. This variability could be influenced by factors such as location, time of day, weather conditions, and human activities, highlighting the complex nature of air quality dynamics.\n",
    "\n",
    "3. Extreme Values:\n",
    "   Some parameters exhibit extreme maximum values (e.g., PM10, PM2.5, SO2), indicating the presence of outliers or highly polluted conditions in certain instances.\n",
    "\n",
    "4. Differences in Central Tendencies:\n",
    "   Notable differences in the central tendencies (mean, median) of air quality parameters indicate variations in data distribution. For example, a right-skewed distribution is observed for PM2.5 concentrations, with some high-value outliers influencing the mean.\n",
    "\n",
    "5. Standard Deviation and Variability:\n",
    "   Parameters with higher standard deviations (e.g., PM10, PM2.5) exhibit greater variability in concentrations, suggesting heterogeneous spatial and temporal patterns in air quality. This variability underscores the importance of considering local factors and temporal trends in air quality management efforts.\n",
    "\n",
    "6. Comparative Analysis and Health Implications:\n",
    "   Comparative analysis of summary statistics across parameters highlights differences in emission sources, atmospheric processes, and regional variability for various pollutants. Parameters exceeding regulatory limits or health guidelines may pose increased health risks to exposed populations, emphasizing the importance of air quality monitoring and mitigation measures.\n",
    "\n",
    "By examining the summary statistics from various angles and considering their implications in the broader context of air quality management and public health, we can uncover valuable insights and inform evidence-based decision-making."
   ],
   "metadata": {
    "collapsed": false,
    "pycharm": {
     "name": "#%% md\n"
    }
   }
  },
  {
   "cell_type": "code",
   "execution_count": 24,
   "outputs": [
    {
     "name": "stdout",
     "output_type": "stream",
     "text": [
      "\n",
      "Missing values in the dataset:\n",
      "date              0\n",
      "time              0\n",
      "location_name     0\n",
      "latitude          0\n",
      "longitude         0\n",
      "value             0\n",
      "parameter_name    0\n",
      "dtype: int64\n"
     ]
    }
   ],
   "source": [
    "# Check for missing values\n",
    "print(\"\\nMissing values in the dataset:\")\n",
    "print(filtered_data.isnull().sum())"
   ],
   "metadata": {
    "collapsed": false,
    "pycharm": {
     "name": "#%%\n"
    }
   }
  },
  {
   "cell_type": "markdown",
   "source": [
    "We can see there are no missing values across any of the columns."
   ],
   "metadata": {
    "collapsed": false,
    "pycharm": {
     "name": "#%% md\n"
    }
   }
  },
  {
   "cell_type": "markdown",
   "source": [
    "## Exploratory Data Analysis (EDA) Insights:\n",
    "-----------------------------------------\n",
    "\n",
    "In this section, we delve deeper into the air quality dataset through various analytical approaches to gain valuable insights into air quality dynamics across different dimensions.\n",
    "\n",
    "1. Distribution of Data Across Monitoring Locations:\n",
    "   We start by visualizing the distribution of data across monitoring locations using a pie chart. This analysis provides an overview of the distribution of observations among different monitoring stations, offering insights into the spatial coverage of the dataset.\n",
    "\n",
    "2. Distribution of Air Quality Parameters:\n",
    "   Next, we explore the distribution of air quality parameters using box plots. By comparing the distributions of parameters such as CO, PM10, PM2.5, O3, and SO2, we gain insights into the variability and central tendencies of each parameter, aiding in understanding their overall distribution patterns.\n",
    "\n",
    "3. Temporal Trend Analysis:\n",
    "   Moving on, we conduct a temporal trend analysis to examine how air quality parameters vary over time. By calculating the monthly average of air quality parameters and visualizing the temporal trends, we aim to identify seasonal patterns and long-term trends in air quality dynamics.\n",
    "\n",
    "4. Comparative Analysis Across Locations:\n",
    "   Lastly, we perform a comparative analysis to compare air quality parameters across different monitoring locations. Through box plots grouped by location and parameter, we explore spatial variations in air quality and investigate potential differences in pollution levels among monitoring stations.\n",
    "\n",
    "These analytical approaches provide valuable insights into the spatial, temporal, and parameter-wise variations in air quality, contributing to a comprehensive understanding of air quality dynamics in the study area.\n"
   ],
   "metadata": {
    "collapsed": false,
    "pycharm": {
     "name": "#%% md\n"
    }
   }
  },
  {
   "cell_type": "markdown",
   "source": [
    "### Distribution of Data Across Monitoring Locations:\n",
    "Let's plot a pie chart to check which locations have the most data available. However, since there are 20 locations in the dataset, viewing all of them will cause overlaps. So, we will group the data into major locations.\n",
    "\n",
    "Moreover, not every location has values for the same group of pollutants. Hence, we will focus on only PM2.5 which is thought to be the most dangerous for lung diseases."
   ],
   "metadata": {
    "collapsed": false,
    "pycharm": {
     "name": "#%% md\n"
    }
   }
  },
  {
   "cell_type": "code",
   "execution_count": 50,
   "outputs": [
    {
     "data": {
      "text/plain": "<Figure size 800x600 with 1 Axes>",
      "image/png": "[encoded data removed]"
     },
     "metadata": {},
     "output_type": "display_data"
    }
   ],
   "source": [
    "# Define the list of major cities\n",
    "major_cities = ['Melbourne CBD', 'Geelong South', 'Bendigo', 'Dandenong', 'Footscray', 'Box Hill', 'Brighton']\n",
    "\n",
    "# Define the aggregation function\n",
    "def aggregate_locations(location):\n",
    "    if location in major_cities:\n",
    "        return location\n",
    "    else:\n",
    "        return 'Others'\n",
    "\n",
    "# Apply the aggregation function to create a new column 'aggregated_location'\n",
    "filtered_data.loc[:, 'aggregated_location'] = filtered_data['location_name'].apply(aggregate_locations)\n",
    "\n",
    "# Calculate counts for each aggregated location\n",
    "location_counts = filtered_data[filtered_data['parameter_name'] == 'PM2.5']['aggregated_location'].value_counts()\n",
    "\n",
    "# Create a pie chart with aggregated locations\n",
    "plt.figure(figsize=(8, 6))\n",
    "plt.pie(location_counts, labels=location_counts.index, autopct='%1.1f%%', startangle=140)\n",
    "plt.title('Distribution of PM2.5 Data Across Major Cities', fontsize=15, pad=10)\n",
    "plt.axis('equal')  # Equal aspect ratio ensures that pie is drawn as a circle.\n",
    "plt.show()"
   ],
   "metadata": {
    "collapsed": false,
    "pycharm": {
     "name": "#%%\n"
    }
   }
  },
  {
   "cell_type": "markdown",
   "source": [
    "### Insights from Data Distribution Chart:\n",
    "\n",
    "1. Overall Picture:\n",
    "The major cities account for about 51% of all the data related to PM2.5 particle in the dataset.\n",
    "2. Urban Centers with Higher PM2.5 Levels:\n",
    "Locations such as Melbourne CBD, Footscray, and Box Hill, with PM2.5 proportions ranging from 8.7% to 9.5%, likely correspond to urban centers or areas with higher population density and vehicular traffic. These areas typically experience elevated PM2.5 levels due to emissions from vehicles, industrial activities, and urban development.\n",
    "3. Local Pollution Hotspots:\n",
    "Locations like Brighton, known for their proximity to busy roads or industrial zones, have relatively higher proportions of PM2.5 data (9.1%). These areas may represent local pollution hotspots where emissions from transportation, industrial processes, or residential heating contribute to elevated PM2.5 levels."
   ],
   "metadata": {
    "collapsed": false,
    "pycharm": {
     "name": "#%% md\n"
    }
   }
  },
  {
   "cell_type": "code",
   "execution_count": null,
   "outputs": [],
   "source": [],
   "metadata": {
    "collapsed": false,
    "pycharm": {
     "name": "#%%\n"
    }
   }
  }
 ],
 "metadata": {
  "kernelspec": {
   "display_name": "Python 3",
   "language": "python",
   "name": "python3"
  },
  "language_info": {
   "codemirror_mode": {
    "name": "ipython",
    "version": 2
   },
   "file_extension": ".py",
   "mimetype": "text/x-python",
   "name": "python",
   "nbconvert_exporter": "python",
   "pygments_lexer": "ipython2",
   "version": "2.7.6"
  }
 },
 "nbformat": 4,
 "nbformat_minor": 0
}