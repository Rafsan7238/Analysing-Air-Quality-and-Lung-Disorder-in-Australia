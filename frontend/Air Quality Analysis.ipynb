{
 "cells": [
  {
   "cell_type": "markdown",
   "source": [
    "# Air Quality Analysis in Victoria\n",
    "---------------------------------\n",
    "This notebook explores air quality data collected from various monitoring stations in Victoria. The dataset includes hourly average measurements of air quality parameters. The objective of this analysis is to gain insights into the temporal trends, spatial variations, and potential impacts of air pollution on public health in Victoria."
   ],
   "metadata": {
    "collapsed": false,
    "pycharm": {
     "name": "#%% md\n"
    }
   }
  },
  {
   "cell_type": "markdown",
   "source": [
    "## Import Necessary Libraries"
   ],
   "metadata": {
    "collapsed": false,
    "pycharm": {
     "name": "#%% md\n"
    }
   }
  },
  {
   "cell_type": "code",
   "execution_count": 1,
   "metadata": {
    "collapsed": true,
    "pycharm": {
     "name": "#%%\n"
    }
   },
   "outputs": [],
   "source": [
    "import pandas as pd\n",
    "import matplotlib.pyplot as plt\n",
    "import seaborn as sns\n",
    "from statsmodels.tsa.seasonal import seasonal_decompose"
   ]
  },
  {
   "cell_type": "markdown",
   "source": [
    "## Load the Dataset\n",
    "\n",
    "### Dataset Description:\n",
    "--------------------\n",
    "\n",
    "The dataset used in this analysis contains hourly average measurements of air quality parameters from various monitoring stations in Victoria. The dataset is sourced from EPA and includes the following columns:\n",
    "\n",
    "- date: Date of observation\n",
    "- time: Time of observation\n",
    "- location_name: Name of the monitoring station\n",
    "- latitude: Latitude coordinates of the monitoring station\n",
    "- longitude: Longitude coordinates of the monitoring station\n",
    "- value: Value of the observed air quality parameter\n",
    "- parameter_name: Name of the observed air quality parameter\n",
    "\n",
    "The objective of this analysis is to explore the relationship between air quality parameters and potential impacts on public health, particularly focusing on parameters such as CO (Carbon Monoxide), PM10 (Particulate Matter with diameter less than 10 micrometers), PM2.5 (Particulate Matter with diameter less than 2.5 micrometers), O3 (Ozone), and SO2 (Sulfur Dioxide). These parameters are known to have significant implications for air quality and human health.\n",
    "\n",
    "Before proceeding with the analysis, we will load the dataset.\n"
   ],
   "metadata": {
    "collapsed": false,
    "pycharm": {
     "name": "#%% md\n"
    }
   }
  },
  {
   "cell_type": "code",
   "execution_count": 6,
   "outputs": [],
   "source": [
    "# Set display options for pandas DataFrame\n",
    "pd.set_option('display.max_columns', None)  # Display all columns\n",
    "pd.set_option('display.width', 1000)        # Set display width"
   ],
   "metadata": {
    "collapsed": false,
    "pycharm": {
     "name": "#%%\n"
    }
   }
  },
  {
   "cell_type": "code",
   "execution_count": 12,
   "outputs": [],
   "source": [
    "# Load the dataset\n",
    "data = pd.read_excel('../data/2022_All_sites_air_quality_hourly_avg.xlsx', sheet_name='AllData', usecols='A:G')\n",
    "\n",
    "# Filter the DataFrame to select only specific parameter names\n",
    "selected_parameters = ['CO', 'PM10', 'PM2.5', 'O3', 'SO2']\n",
    "filtered_data = data[data['parameter_name'].isin(selected_parameters)]"
   ],
   "metadata": {
    "collapsed": false,
    "pycharm": {
     "name": "#%%\n"
    }
   }
  },
  {
   "cell_type": "markdown",
   "source": [
    "## Data Preprocessing:\n",
    "-------------------\n",
    "\n",
    "Before delving into detailed analysis, it's crucial to preprocess the dataset to ensure its quality and suitability for further exploration:\n",
    "\n",
    "1. Data Conversion: Convert the 'date' column to datetime format to facilitate temporal analysis.\n",
    "2. Filtering: Apply filters to select specific air quality parameters of interest for focused analysis.\n",
    "\n",
    "By performing these preprocessing steps, we can streamline the data and focus our analysis on the relevant air quality parameters, setting the foundation for insightful exploration.\n"
   ],
   "metadata": {
    "collapsed": false,
    "pycharm": {
     "name": "#%% md\n"
    }
   }
  },
  {
   "cell_type": "code",
   "execution_count": 18,
   "outputs": [
    {
     "name": "stderr",
     "output_type": "stream",
     "text": [
      "/var/folders/7p/m7gs_hkn58qbs70h8pztg9480000gn/T/ipykernel_12001/1248701647.py:5: SettingWithCopyWarning: \n",
      "A value is trying to be set on a copy of a slice from a DataFrame.\n",
      "Try using .loc[row_indexer,col_indexer] = value instead\n",
      "\n",
      "See the caveats in the documentation: https://pandas.pydata.org/pandas-docs/stable/user_guide/indexing.html#returning-a-view-versus-a-copy\n",
      "  filtered_data['date'] = pd.to_datetime(filtered_data['date'])\n",
      "/var/folders/7p/m7gs_hkn58qbs70h8pztg9480000gn/T/ipykernel_12001/1248701647.py:8: SettingWithCopyWarning: \n",
      "A value is trying to be set on a copy of a slice from a DataFrame.\n",
      "Try using .loc[row_indexer,col_indexer] = value instead\n",
      "\n",
      "See the caveats in the documentation: https://pandas.pydata.org/pandas-docs/stable/user_guide/indexing.html#returning-a-view-versus-a-copy\n",
      "  filtered_data['date'] = filtered_data['date'].dt.date\n"
     ]
    }
   ],
   "source": [
    "# Reset the index\n",
    "filtered_data.reset_index(drop=True, inplace=True)\n",
    "\n",
    "# Convert 'date' column to datetime data type\n",
    "filtered_data['date'] = pd.to_datetime(filtered_data['date'])\n",
    "\n",
    "# Extract only the date portion from the datetime column\n",
    "filtered_data['date'] = filtered_data['date'].dt.date"
   ],
   "metadata": {
    "collapsed": false,
    "pycharm": {
     "name": "#%%\n"
    }
   }
  },
  {
   "cell_type": "code",
   "execution_count": 19,
   "outputs": [
    {
     "name": "stdout",
     "output_type": "stream",
     "text": [
      "         date      time location_name   latitude   longitude   value parameter_name\n",
      "0  2021-12-31  23:00:00  Morwell East -38.229393  146.424454   0.356             CO\n",
      "1  2021-12-31  23:00:00   Mooroolbark -37.774967  145.328500  49.150           PM10\n",
      "2  2021-12-31  23:00:00     Traralgon -38.194282  146.531464  27.504           PM10\n",
      "3  2021-12-31  23:00:00     Footscray -37.803709  144.869342  33.061           PM10\n",
      "4  2021-12-31  23:00:00  Morwell East -38.229393  146.424454   3.327          PM2.5\n"
     ]
    }
   ],
   "source": [
    "# Display the first few rows of the filtered DataFrame\n",
    "print(filtered_data.head())"
   ],
   "metadata": {
    "collapsed": false,
    "pycharm": {
     "name": "#%%\n"
    }
   }
  },
  {
   "cell_type": "markdown",
   "source": [],
   "metadata": {
    "collapsed": false,
    "pycharm": {
     "name": "#%% md\n"
    }
   }
  },
  {
   "cell_type": "code",
   "execution_count": null,
   "outputs": [],
   "source": [],
   "metadata": {
    "collapsed": false,
    "pycharm": {
     "name": "#%%\n"
    }
   }
  }
 ],
 "metadata": {
  "kernelspec": {
   "display_name": "Python 3",
   "language": "python",
   "name": "python3"
  },
  "language_info": {
   "codemirror_mode": {
    "name": "ipython",
    "version": 2
   },
   "file_extension": ".py",
   "mimetype": "text/x-python",
   "name": "python",
   "nbconvert_exporter": "python",
   "pygments_lexer": "ipython2",
   "version": "2.7.6"
  }
 },
 "nbformat": 4,
 "nbformat_minor": 0
}